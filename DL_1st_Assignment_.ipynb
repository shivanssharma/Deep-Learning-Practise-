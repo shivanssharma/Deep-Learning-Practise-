{
  "nbformat": 4,
  "nbformat_minor": 0,
  "metadata": {
    "colab": {
      "provenance": [],
      "authorship_tag": "ABX9TyMKZYn7icIOzfpX+gP7eyF3",
      "include_colab_link": true
    },
    "kernelspec": {
      "name": "python3",
      "display_name": "Python 3"
    },
    "language_info": {
      "name": "python"
    }
  },
  "cells": [
    {
      "cell_type": "markdown",
      "metadata": {
        "id": "view-in-github",
        "colab_type": "text"
      },
      "source": [
        "<a href=\"https://colab.research.google.com/github/shivanssharma/Deep-Learning-Practise-/blob/main/DL_1st_Assignment_.ipynb\" target=\"_parent\"><img src=\"https://colab.research.google.com/assets/colab-badge.svg\" alt=\"Open In Colab\"/></a>"
      ]
    },
    {
      "cell_type": "markdown",
      "source": [
        "Basic things in pytorch"
      ],
      "metadata": {
        "id": "PAdpO8Xx0c1q"
      }
    },
    {
      "cell_type": "code",
      "execution_count": 2,
      "metadata": {
        "id": "1JCjEU89o_yQ",
        "colab": {
          "base_uri": "https://localhost:8080/"
        },
        "outputId": "aa38ac51-d0fc-4b78-ceee-bbba68ea1a21"
      },
      "outputs": [
        {
          "output_type": "execute_result",
          "data": {
            "text/plain": [
              "tensor([1., 1., 1.])"
            ]
          },
          "metadata": {},
          "execution_count": 2
        }
      ],
      "source": [
        "import torch\n",
        "a = torch.ones(3)\n",
        "a"
      ]
    },
    {
      "cell_type": "code",
      "source": [
        "a[1]"
      ],
      "metadata": {
        "colab": {
          "base_uri": "https://localhost:8080/"
        },
        "id": "5i5uDkBx0X_h",
        "outputId": "3daaaec9-888e-417c-9b69-b4f858e33d25"
      },
      "execution_count": null,
      "outputs": [
        {
          "output_type": "execute_result",
          "data": {
            "text/plain": [
              "tensor(1.)"
            ]
          },
          "metadata": {},
          "execution_count": 3
        }
      ]
    },
    {
      "cell_type": "code",
      "source": [
        "float(a[1])"
      ],
      "metadata": {
        "colab": {
          "base_uri": "https://localhost:8080/"
        },
        "id": "cE8z88qx1DWn",
        "outputId": "d824dbbd-6e0e-4207-8eb0-1ce11d24c2b7"
      },
      "execution_count": null,
      "outputs": [
        {
          "output_type": "execute_result",
          "data": {
            "text/plain": [
              "1.0"
            ]
          },
          "metadata": {},
          "execution_count": 4
        }
      ]
    },
    {
      "cell_type": "code",
      "source": [
        "a[2]=2\n",
        "a"
      ],
      "metadata": {
        "colab": {
          "base_uri": "https://localhost:8080/"
        },
        "id": "NZeExLTM1INO",
        "outputId": "7401a3e3-a8d2-4538-8e06-df5ad0506a0f"
      },
      "execution_count": null,
      "outputs": [
        {
          "output_type": "execute_result",
          "data": {
            "text/plain": [
              "tensor([1., 1., 2.])"
            ]
          },
          "metadata": {},
          "execution_count": 5
        }
      ]
    },
    {
      "cell_type": "code",
      "source": [
        "points = torch.Tensor([4,5,6,7,8])\n",
        "points"
      ],
      "metadata": {
        "colab": {
          "base_uri": "https://localhost:8080/"
        },
        "id": "kALVgqay1Sb9",
        "outputId": "ac44d247-c5c8-4232-91e8-7f4437e5b9a2"
      },
      "execution_count": null,
      "outputs": [
        {
          "output_type": "execute_result",
          "data": {
            "text/plain": [
              "tensor([4., 5., 6., 7., 8.])"
            ]
          },
          "metadata": {},
          "execution_count": 7
        }
      ]
    },
    {
      "cell_type": "code",
      "source": [
        "float(points[0]),float (points[1])"
      ],
      "metadata": {
        "colab": {
          "base_uri": "https://localhost:8080/"
        },
        "id": "RFOlsUVf1nnC",
        "outputId": "5bfb3615-9c82-4467-eff8-9453549a7851"
      },
      "execution_count": null,
      "outputs": [
        {
          "output_type": "execute_result",
          "data": {
            "text/plain": [
              "(4.0, 5.0)"
            ]
          },
          "metadata": {},
          "execution_count": 9
        }
      ]
    },
    {
      "cell_type": "code",
      "source": [
        "points = torch.Tensor([[4,5,6,7,8],[7,5,4,3, 9]])\n",
        "points"
      ],
      "metadata": {
        "colab": {
          "base_uri": "https://localhost:8080/"
        },
        "id": "iMlWcYXV14Hy",
        "outputId": "c8754539-db4a-48e5-cb9a-6cbcd60252af"
      },
      "execution_count": null,
      "outputs": [
        {
          "output_type": "execute_result",
          "data": {
            "text/plain": [
              "tensor([[4., 5., 6., 7., 8.],\n",
              "        [7., 5., 4., 3., 9.]])"
            ]
          },
          "metadata": {},
          "execution_count": 14
        }
      ]
    },
    {
      "cell_type": "code",
      "source": [
        "points.shape"
      ],
      "metadata": {
        "colab": {
          "base_uri": "https://localhost:8080/"
        },
        "id": "BR2o3y_f2FdF",
        "outputId": "709842bf-8ab1-41a9-a038-5cf7f800a53a"
      },
      "execution_count": null,
      "outputs": [
        {
          "output_type": "execute_result",
          "data": {
            "text/plain": [
              "torch.Size([2, 5])"
            ]
          },
          "metadata": {},
          "execution_count": 15
        }
      ]
    },
    {
      "cell_type": "code",
      "source": [
        "points =torch.zeros(3,2)\n",
        "points"
      ],
      "metadata": {
        "colab": {
          "base_uri": "https://localhost:8080/"
        },
        "id": "TfGLzg-q2bIC",
        "outputId": "3154afb7-4faf-471c-dec8-1de680e9bfad"
      },
      "execution_count": null,
      "outputs": [
        {
          "output_type": "execute_result",
          "data": {
            "text/plain": [
              "tensor([[0., 0.],\n",
              "        [0., 0.],\n",
              "        [0., 0.]])"
            ]
          },
          "metadata": {},
          "execution_count": 17
        }
      ]
    },
    {
      "cell_type": "code",
      "source": [
        "points[0,1]=4\n",
        "points"
      ],
      "metadata": {
        "colab": {
          "base_uri": "https://localhost:8080/"
        },
        "id": "zxlBao4E21z9",
        "outputId": "66094d22-90cb-412c-9826-3117eec13dc8"
      },
      "execution_count": null,
      "outputs": [
        {
          "output_type": "execute_result",
          "data": {
            "text/plain": [
              "tensor([[0., 4.],\n",
              "        [0., 0.],\n",
              "        [0., 0.]])"
            ]
          },
          "metadata": {},
          "execution_count": 19
        }
      ]
    },
    {
      "cell_type": "code",
      "source": [
        "img=torch.randn(3,5,5)\n",
        "weights=torch.Tensor([0.32,0.213,0.2341])"
      ],
      "metadata": {
        "id": "C9H6gKjn3Mfa"
      },
      "execution_count": null,
      "outputs": []
    },
    {
      "cell_type": "code",
      "source": [
        "batch=torch.randn(2,3,4,4)      #here batch,channels,rows,columns are there\n",
        "batch"
      ],
      "metadata": {
        "colab": {
          "base_uri": "https://localhost:8080/"
        },
        "id": "Wp18108A33Oq",
        "outputId": "e7edeb18-579a-485e-f894-0fbd91f3a330"
      },
      "execution_count": null,
      "outputs": [
        {
          "output_type": "execute_result",
          "data": {
            "text/plain": [
              "tensor([[[[-9.4476e-01,  3.5945e-01,  9.0031e-01,  1.3934e+00],\n",
              "          [ 2.1288e-01,  2.1527e-01,  2.1196e+00, -7.8091e-02],\n",
              "          [-6.4556e-01, -1.4431e+00,  1.3933e+00,  1.0836e+00],\n",
              "          [ 1.1605e-03, -5.4771e-01, -4.1803e-01,  1.7135e-01]],\n",
              "\n",
              "         [[-2.1621e-01, -1.5357e-01, -7.2609e-01, -7.9537e-01],\n",
              "          [ 2.0182e-01, -6.4836e-02,  2.0640e+00, -4.1242e-01],\n",
              "          [ 2.2059e-01,  1.8693e+00,  1.1297e+00,  4.6805e-02],\n",
              "          [ 2.0407e+00, -2.6072e-01, -1.3152e+00,  1.1218e+00]],\n",
              "\n",
              "         [[-3.4655e-01,  2.5865e-01, -1.2335e+00, -6.3745e-01],\n",
              "          [-4.1156e-01, -2.1283e+00,  1.9112e-01,  1.1414e+00],\n",
              "          [-1.9262e-01,  1.1558e-01, -1.9829e+00,  7.3371e-01],\n",
              "          [ 1.0272e+00,  1.1733e+00, -8.3327e-02, -1.8286e+00]]],\n",
              "\n",
              "\n",
              "        [[[ 8.9235e-01,  1.0655e-01,  1.1155e+00,  9.6327e-01],\n",
              "          [ 2.9946e-01,  1.1422e+00, -5.3627e-03, -9.5209e-01],\n",
              "          [-1.4933e+00, -2.2574e+00,  1.3202e+00,  9.6172e-02],\n",
              "          [ 1.2709e+00,  1.0382e+00, -2.7748e+00,  9.1740e-01]],\n",
              "\n",
              "         [[-3.0901e-01, -7.5543e-01, -4.0968e-02,  3.0657e-01],\n",
              "          [ 3.8291e-01,  3.1936e-01, -1.4126e+00, -1.7001e-01],\n",
              "          [-1.4675e+00,  4.7978e-01, -6.0323e-01, -2.3860e-01],\n",
              "          [ 1.4679e+00, -2.3681e+00, -1.0988e+00,  3.0842e-01]],\n",
              "\n",
              "         [[ 4.9758e-01, -6.3681e-01, -3.1617e-01, -3.1454e+00],\n",
              "          [-5.8960e-01, -4.0645e-01,  5.0483e-01,  4.6694e-01],\n",
              "          [ 2.4459e-01,  5.8817e-01, -2.5060e+00, -4.7634e-01],\n",
              "          [ 1.5753e+00,  6.6133e-01, -8.1156e-01, -6.8948e-01]]]])"
            ]
          },
          "metadata": {},
          "execution_count": 32
        }
      ]
    },
    {
      "cell_type": "code",
      "source": [
        "image_naive=img.mean(-2)      #mean is taken for the second last dimenssion\n",
        "batch_naive=batch.mean(-3)    #mean is taken for the 3rd last dimension\n",
        "image_naive,batch_naive"
      ],
      "metadata": {
        "colab": {
          "base_uri": "https://localhost:8080/"
        },
        "id": "l9yWbJqV5LbV",
        "outputId": "c797fbf7-1c30-4ef4-d8b9-1e5f717fe942"
      },
      "execution_count": null,
      "outputs": [
        {
          "output_type": "execute_result",
          "data": {
            "text/plain": [
              "(tensor([[-0.5701, -0.0669,  0.2427,  0.5573,  0.4492],\n",
              "         [-0.5053,  0.2875,  0.4053, -0.1118,  0.2562],\n",
              "         [ 0.0797,  0.5296,  0.0131, -1.1495,  1.0003]]),\n",
              " tensor([[[-5.0251e-01,  1.5484e-01, -3.5308e-01, -1.3139e-02],\n",
              "          [ 1.0469e-03, -6.5928e-01,  1.4583e+00,  2.1695e-01],\n",
              "          [-2.0586e-01,  1.8059e-01,  1.8002e-01,  6.2137e-01],\n",
              "          [ 1.0230e+00,  1.2164e-01, -6.0551e-01, -1.7847e-01]],\n",
              " \n",
              "         [[ 3.6031e-01, -4.2856e-01,  2.5280e-01, -6.2520e-01],\n",
              "          [ 3.0925e-02,  3.5170e-01, -3.0437e-01, -2.1839e-01],\n",
              "          [-9.0540e-01, -3.9647e-01, -5.9634e-01, -2.0626e-01],\n",
              "          [ 1.4380e+00, -2.2285e-01, -1.5617e+00,  1.7878e-01]]]))"
            ]
          },
          "metadata": {},
          "execution_count": 37
        }
      ]
    },
    {
      "cell_type": "code",
      "source": [
        "unsqueezed_weights = weights.unsqueeze(-1).unsqueeze_(-1)         #before the weights cannot be multiplied but now (C,1,1)\n",
        "img_weights = (img * unsqueezed_weights)                          # (C,1,1)*(C,H,W)=(C,H,W)\n",
        "batch_weights = (batch * unsqueezed_weights)\n",
        "img_gray_weighted = img_weights.sum(-3)\n",
        "batch_gray_weighted = batch_weights.sum(-3)\n",
        "batch_weights.shape, batch.shape, unsqueezed_weights.shape"
      ],
      "metadata": {
        "colab": {
          "base_uri": "https://localhost:8080/"
        },
        "id": "DoiQZJUt6ejL",
        "outputId": "05a65b0f-9a7d-4db4-a933-81ac2f663d70"
      },
      "execution_count": null,
      "outputs": [
        {
          "output_type": "execute_result",
          "data": {
            "text/plain": [
              "(torch.Size([2, 3, 4, 4]), torch.Size([2, 3, 4, 4]), torch.Size([3, 1, 1]))"
            ]
          },
          "metadata": {},
          "execution_count": 38
        }
      ]
    },
    {
      "cell_type": "code",
      "source": [
        "img_gray_weighted_fancy = torch.einsum('...chw,c->...hw', img, weights)       #here we are collapsing the channeland making h and w\n",
        "batch_gray_weighted_fancy = torch.einsum('...chw,c->...hw', batch, weights)\n",
        "batch_gray_weighted_fancy.shape"
      ],
      "metadata": {
        "colab": {
          "base_uri": "https://localhost:8080/"
        },
        "id": "oqhNbAHk85Ee",
        "outputId": "b874d5cb-9fc6-408a-dda9-c2361f4ed00b"
      },
      "execution_count": null,
      "outputs": [
        {
          "output_type": "execute_result",
          "data": {
            "text/plain": [
              "torch.Size([2, 4, 4])"
            ]
          },
          "metadata": {},
          "execution_count": 39
        }
      ]
    },
    {
      "cell_type": "code",
      "source": [
        "weights_named = torch.tensor([0.2126, 0.7152, 0.0722], names=['channels'])      #naming the dimension\n",
        "weights_named"
      ],
      "metadata": {
        "colab": {
          "base_uri": "https://localhost:8080/"
        },
        "id": "mTFO6jdE-1lp",
        "outputId": "f862239f-7d4a-4579-cb56-deae6f403c0d"
      },
      "execution_count": null,
      "outputs": [
        {
          "output_type": "stream",
          "name": "stderr",
          "text": [
            "/tmp/ipython-input-40-2371314847.py:1: UserWarning: Named tensors and all their associated APIs are an experimental feature and subject to change. Please do not use them for anything important until they are released as stable. (Triggered internally at /pytorch/c10/core/TensorImpl.h:1935.)\n",
            "  weights_named = torch.tensor([0.2126, 0.7152, 0.0722], names=['channels'])\n"
          ]
        },
        {
          "output_type": "execute_result",
          "data": {
            "text/plain": [
              "tensor([0.2126, 0.7152, 0.0722], names=('channels',))"
            ]
          },
          "metadata": {},
          "execution_count": 40
        }
      ]
    },
    {
      "cell_type": "code",
      "source": [
        "img_named = img.refine_names(..., 'channels', 'rows', 'columns')        #naming diffrent dimensions\n",
        "batch_named = batch.refine_names(..., 'channels', 'rows', 'columns')\n",
        "print(\"img named:\", img_named.shape, img_named.names)\n",
        "print(\"batch named:\", batch_named.shape, batch_named.names)"
      ],
      "metadata": {
        "colab": {
          "base_uri": "https://localhost:8080/"
        },
        "id": "bWTJ8lZz_Snv",
        "outputId": "2fd5f3f0-0d89-428d-d03c-add4f67d3da9"
      },
      "execution_count": null,
      "outputs": [
        {
          "output_type": "stream",
          "name": "stdout",
          "text": [
            "img named: torch.Size([3, 5, 5]) ('channels', 'rows', 'columns')\n",
            "batch named: torch.Size([2, 3, 4, 4]) (None, 'channels', 'rows', 'columns')\n"
          ]
        }
      ]
    },
    {
      "cell_type": "code",
      "source": [
        "weights_aligned = weights_named.align_as(img_named)\n",
        "weights_aligned.shape, weights_aligned.names"
      ],
      "metadata": {
        "colab": {
          "base_uri": "https://localhost:8080/"
        },
        "id": "X-v9R-ZWAcaw",
        "outputId": "49238685-0a97-4689-c4d0-bbffe0235c32"
      },
      "execution_count": null,
      "outputs": [
        {
          "output_type": "execute_result",
          "data": {
            "text/plain": [
              "(torch.Size([3, 1, 1]), ('channels', 'rows', 'columns'))"
            ]
          },
          "metadata": {},
          "execution_count": 44
        }
      ]
    },
    {
      "cell_type": "code",
      "source": [
        "gray_named = (img_named * weights_aligned).sum('channels')\n",
        "gray_named.shape, gray_named.names"
      ],
      "metadata": {
        "colab": {
          "base_uri": "https://localhost:8080/"
        },
        "id": "sv1fRRsk_-Gy",
        "outputId": "b5b8ce58-ecd3-4aac-e68f-adc1a10947aa"
      },
      "execution_count": null,
      "outputs": [
        {
          "output_type": "execute_result",
          "data": {
            "text/plain": [
              "(torch.Size([5, 5]), ('rows', 'columns'))"
            ]
          },
          "metadata": {},
          "execution_count": 45
        }
      ]
    },
    {
      "cell_type": "code",
      "source": [
        "double_points = torch.ones(10, 2, dtype=torch.double)\n",
        "short_points = torch.tensor([[1, 2], [3, 4]], dtype=torch.short)"
      ],
      "metadata": {
        "id": "QW7dp7XVAmPC"
      },
      "execution_count": null,
      "outputs": []
    },
    {
      "cell_type": "markdown",
      "source": [
        "#Datatype"
      ],
      "metadata": {
        "id": "K24JJnaACeR_"
      }
    },
    {
      "cell_type": "code",
      "source": [
        "short_points.dtype,double_points.dtype"
      ],
      "metadata": {
        "colab": {
          "base_uri": "https://localhost:8080/"
        },
        "id": "ALt6U8G3Bdih",
        "outputId": "8618f20d-2b15-4567-965f-5f858358445e"
      },
      "execution_count": null,
      "outputs": [
        {
          "output_type": "execute_result",
          "data": {
            "text/plain": [
              "(torch.int16, torch.float64)"
            ]
          },
          "metadata": {},
          "execution_count": 48
        }
      ]
    },
    {
      "cell_type": "code",
      "source": [
        "double_points = torch.zeros(10, 2).double()\n",
        "short_points = torch.ones(10, 2).short()"
      ],
      "metadata": {
        "id": "aTA6PM-nB4vf"
      },
      "execution_count": null,
      "outputs": []
    },
    {
      "cell_type": "code",
      "source": [
        "short_points"
      ],
      "metadata": {
        "colab": {
          "base_uri": "https://localhost:8080/"
        },
        "id": "8R0DNVekCqTJ",
        "outputId": "37b9142b-a77a-417b-ded8-5c111b77cf68"
      },
      "execution_count": null,
      "outputs": [
        {
          "output_type": "execute_result",
          "data": {
            "text/plain": [
              "tensor([[1, 1],\n",
              "        [1, 1],\n",
              "        [1, 1],\n",
              "        [1, 1],\n",
              "        [1, 1],\n",
              "        [1, 1],\n",
              "        [1, 1],\n",
              "        [1, 1],\n",
              "        [1, 1],\n",
              "        [1, 1]], dtype=torch.int16)"
            ]
          },
          "metadata": {},
          "execution_count": 51
        }
      ]
    },
    {
      "cell_type": "code",
      "source": [
        "points_64 = torch.rand(5, dtype=torch.double)\n",
        "points_short = points_64.to(torch.short)\n",
        "points_64 * points_short"
      ],
      "metadata": {
        "colab": {
          "base_uri": "https://localhost:8080/"
        },
        "id": "srKxfn6PC0nt",
        "outputId": "f01155e3-8ac7-4eb4-81f2-d3e5a9b3bc48"
      },
      "execution_count": null,
      "outputs": [
        {
          "output_type": "execute_result",
          "data": {
            "text/plain": [
              "tensor([0., 0., 0., 0., 0.], dtype=torch.float64)"
            ]
          },
          "metadata": {},
          "execution_count": 52
        }
      ]
    },
    {
      "cell_type": "markdown",
      "source": [
        "#The tensor API"
      ],
      "metadata": {
        "id": "WYHLaTjwDpDb"
      }
    },
    {
      "cell_type": "code",
      "source": [
        "a = torch.ones(3, 2)\n",
        "a_t = torch.transpose(a, 0, 1)      #it transpose the dimension\n",
        "a.shape, a_t.shape"
      ],
      "metadata": {
        "id": "rytKyQyEDdJW",
        "colab": {
          "base_uri": "https://localhost:8080/"
        },
        "outputId": "2d684f8c-de4e-4bd0-c3d2-9e53237600cf"
      },
      "execution_count": 3,
      "outputs": [
        {
          "output_type": "execute_result",
          "data": {
            "text/plain": [
              "(torch.Size([3, 2]), torch.Size([2, 3]))"
            ]
          },
          "metadata": {},
          "execution_count": 3
        }
      ]
    },
    {
      "cell_type": "markdown",
      "source": [
        "#Indexing into Storage"
      ],
      "metadata": {
        "id": "uNaV-UdzS_0P"
      }
    },
    {
      "cell_type": "code",
      "source": [
        "points = torch.tensor([[4.0, 1.0], [5.0, 3.0], [2.0, 1.0]])\n",
        "points.storage()                    #storing in this in 1d"
      ],
      "metadata": {
        "colab": {
          "base_uri": "https://localhost:8080/"
        },
        "id": "mRG8pmheR709",
        "outputId": "07b0a600-8aca-4537-bb71-89ccd63154d5"
      },
      "execution_count": 4,
      "outputs": [
        {
          "output_type": "stream",
          "name": "stderr",
          "text": [
            "/tmp/ipython-input-4-2923139482.py:2: UserWarning: TypedStorage is deprecated. It will be removed in the future and UntypedStorage will be the only storage class. This should only matter to you if you are using storages directly.  To access UntypedStorage directly, use tensor.untyped_storage() instead of tensor.storage()\n",
            "  points.storage()\n"
          ]
        },
        {
          "output_type": "execute_result",
          "data": {
            "text/plain": [
              " 4.0\n",
              " 1.0\n",
              " 5.0\n",
              " 3.0\n",
              " 2.0\n",
              " 1.0\n",
              "[torch.storage.TypedStorage(dtype=torch.float32, device=cpu) of size 6]"
            ]
          },
          "metadata": {},
          "execution_count": 4
        }
      ]
    },
    {
      "cell_type": "code",
      "source": [
        "points_storage = points.storage()\n",
        "points_storage[0]"
      ],
      "metadata": {
        "colab": {
          "base_uri": "https://localhost:8080/"
        },
        "id": "E0uTH3lfTElQ",
        "outputId": "e160afc0-aa37-4c8a-a23a-bed7aac4fb23"
      },
      "execution_count": 7,
      "outputs": [
        {
          "output_type": "execute_result",
          "data": {
            "text/plain": [
              "4.0"
            ]
          },
          "metadata": {},
          "execution_count": 7
        }
      ]
    },
    {
      "cell_type": "code",
      "source": [
        "points = torch.tensor([[4.0, 1.0], [5.0, 3.0], [2.0, 1.0]])\n",
        "points_storage = points.storage()\n",
        "points_storage[0] = 2.0\n",
        "points"
      ],
      "metadata": {
        "colab": {
          "base_uri": "https://localhost:8080/"
        },
        "id": "e_gU4Q16T7xV",
        "outputId": "5fe4cff4-5520-415f-c8e0-cb2bac19b811"
      },
      "execution_count": 8,
      "outputs": [
        {
          "output_type": "execute_result",
          "data": {
            "text/plain": [
              "tensor([[2., 1.],\n",
              "        [5., 3.],\n",
              "        [2., 1.]])"
            ]
          },
          "metadata": {},
          "execution_count": 8
        }
      ]
    },
    {
      "cell_type": "code",
      "source": [
        "a = torch.ones(3, 2)\n",
        "a.zero_()\n",
        "a"
      ],
      "metadata": {
        "colab": {
          "base_uri": "https://localhost:8080/"
        },
        "id": "kJw-uWxGUXNK",
        "outputId": "6608ee44-f2ed-4a38-a67c-b31f74b61aed"
      },
      "execution_count": 11,
      "outputs": [
        {
          "output_type": "execute_result",
          "data": {
            "text/plain": [
              "tensor([[0., 0.],\n",
              "        [0., 0.],\n",
              "        [0., 0.]])"
            ]
          },
          "metadata": {},
          "execution_count": 11
        }
      ]
    },
    {
      "cell_type": "markdown",
      "source": [
        "#Views of another tensor’s storage"
      ],
      "metadata": {
        "id": "Xjj9UA5SWaaO"
      }
    },
    {
      "cell_type": "code",
      "source": [
        "points = torch.tensor([[4.0, 1.0], [5.0, 3.0], [2.0, 1.0]])\n",
        "second_point = points[1]\n",
        "second_point.storage_offset()         #it will put in 1d and takes the index"
      ],
      "metadata": {
        "colab": {
          "base_uri": "https://localhost:8080/"
        },
        "id": "InPKQ13xUilO",
        "outputId": "5f5dcfdb-c5b5-404c-cf33-6451ebc7b1b0"
      },
      "execution_count": 12,
      "outputs": [
        {
          "output_type": "execute_result",
          "data": {
            "text/plain": [
              "2"
            ]
          },
          "metadata": {},
          "execution_count": 12
        }
      ]
    },
    {
      "cell_type": "code",
      "source": [
        "second_point.size()"
      ],
      "metadata": {
        "colab": {
          "base_uri": "https://localhost:8080/"
        },
        "id": "WW93OolBW1nJ",
        "outputId": "1db72ee9-8926-481c-d5fe-96ca3482d9c8"
      },
      "execution_count": 13,
      "outputs": [
        {
          "output_type": "execute_result",
          "data": {
            "text/plain": [
              "torch.Size([2])"
            ]
          },
          "metadata": {},
          "execution_count": 13
        }
      ]
    },
    {
      "cell_type": "code",
      "source": [
        "second_point.shape"
      ],
      "metadata": {
        "colab": {
          "base_uri": "https://localhost:8080/"
        },
        "id": "CXLm-GS0W79R",
        "outputId": "dcc1d9a1-afc5-4011-d33b-55a8881eb06b"
      },
      "execution_count": 14,
      "outputs": [
        {
          "output_type": "execute_result",
          "data": {
            "text/plain": [
              "torch.Size([2])"
            ]
          },
          "metadata": {},
          "execution_count": 14
        }
      ]
    },
    {
      "cell_type": "code",
      "source": [
        "points.stride()"
      ],
      "metadata": {
        "colab": {
          "base_uri": "https://localhost:8080/"
        },
        "id": "9SS6r67PW_gW",
        "outputId": "8890d30c-fdfa-404b-bd8b-44f994a04eba"
      },
      "execution_count": 15,
      "outputs": [
        {
          "output_type": "execute_result",
          "data": {
            "text/plain": [
              "(2, 1)"
            ]
          },
          "metadata": {},
          "execution_count": 15
        }
      ]
    },
    {
      "cell_type": "code",
      "source": [
        "second_point = points[1]\n",
        "second_point.size()"
      ],
      "metadata": {
        "colab": {
          "base_uri": "https://localhost:8080/"
        },
        "id": "qCuDE11yXIDe",
        "outputId": "ba216eee-2493-4678-e99a-9409057772af"
      },
      "execution_count": 16,
      "outputs": [
        {
          "output_type": "execute_result",
          "data": {
            "text/plain": [
              "torch.Size([2])"
            ]
          },
          "metadata": {},
          "execution_count": 16
        }
      ]
    },
    {
      "cell_type": "code",
      "source": [
        "points = torch.tensor([[4.0, 1.0], [5.0, 3.0], [2.0, 1.0]])\n",
        "second_point = points[1]\n",
        "second_point[0] = 10.0\n",
        "points"
      ],
      "metadata": {
        "colab": {
          "base_uri": "https://localhost:8080/"
        },
        "id": "o7aq7aAKXSWi",
        "outputId": "c72ad673-fe26-4824-bd13-6a8902fc678d"
      },
      "execution_count": 17,
      "outputs": [
        {
          "output_type": "execute_result",
          "data": {
            "text/plain": [
              "tensor([[ 4.,  1.],\n",
              "        [10.,  3.],\n",
              "        [ 2.,  1.]])"
            ]
          },
          "metadata": {},
          "execution_count": 17
        }
      ]
    },
    {
      "cell_type": "code",
      "source": [
        "points = torch.tensor([[4.0, 1.0], [5.0, 3.0], [2.0, 1.0]])\n",
        "second_point = points[1].clone()      #makes copy of [5.0, 3.0]\n",
        "second_point[0] = 10.0\n",
        "points"
      ],
      "metadata": {
        "colab": {
          "base_uri": "https://localhost:8080/"
        },
        "id": "ZphxO7zCXejC",
        "outputId": "ded53309-11d0-4065-e286-e8551420ebbe"
      },
      "execution_count": 19,
      "outputs": [
        {
          "output_type": "execute_result",
          "data": {
            "text/plain": [
              "tensor([[4., 1.],\n",
              "        [5., 3.],\n",
              "        [2., 1.]])"
            ]
          },
          "metadata": {},
          "execution_count": 19
        }
      ]
    },
    {
      "cell_type": "markdown",
      "source": [
        "#Transposing without copying"
      ],
      "metadata": {
        "id": "kV5r408DYwnx"
      }
    },
    {
      "cell_type": "code",
      "source": [
        "points = torch.tensor([[4.0, 1.0], [5.0, 3.0], [2.0, 1.0]])\n",
        "points"
      ],
      "metadata": {
        "colab": {
          "base_uri": "https://localhost:8080/"
        },
        "id": "A-K0ofTpYLVi",
        "outputId": "4f48fae3-ddae-4dc4-b77e-33ad44078884"
      },
      "execution_count": 20,
      "outputs": [
        {
          "output_type": "execute_result",
          "data": {
            "text/plain": [
              "tensor([[4., 1.],\n",
              "        [5., 3.],\n",
              "        [2., 1.]])"
            ]
          },
          "metadata": {},
          "execution_count": 20
        }
      ]
    },
    {
      "cell_type": "code",
      "source": [
        "points_t = points.t()       #shortcut of transpose\n",
        "points_t"
      ],
      "metadata": {
        "colab": {
          "base_uri": "https://localhost:8080/"
        },
        "id": "l8kH6fu-Y3-7",
        "outputId": "6a8e8f2c-ed95-4dd4-9337-185de4980e01"
      },
      "execution_count": 21,
      "outputs": [
        {
          "output_type": "execute_result",
          "data": {
            "text/plain": [
              "tensor([[4., 5., 2.],\n",
              "        [1., 3., 1.]])"
            ]
          },
          "metadata": {},
          "execution_count": 21
        }
      ]
    },
    {
      "cell_type": "code",
      "source": [
        "id(points.storage()) == id(points_t.storage())"
      ],
      "metadata": {
        "colab": {
          "base_uri": "https://localhost:8080/"
        },
        "id": "7_hLv67qY5GX",
        "outputId": "88569d06-5312-4e4b-b6be-8d58662cabeb"
      },
      "execution_count": 22,
      "outputs": [
        {
          "output_type": "execute_result",
          "data": {
            "text/plain": [
              "True"
            ]
          },
          "metadata": {},
          "execution_count": 22
        }
      ]
    },
    {
      "cell_type": "code",
      "source": [
        "points.stride()"
      ],
      "metadata": {
        "colab": {
          "base_uri": "https://localhost:8080/"
        },
        "id": "lEJogwY_ZDs_",
        "outputId": "338642c7-ca44-47c0-be7e-173be7fd99cf"
      },
      "execution_count": 23,
      "outputs": [
        {
          "output_type": "execute_result",
          "data": {
            "text/plain": [
              "(2, 1)"
            ]
          },
          "metadata": {},
          "execution_count": 23
        }
      ]
    },
    {
      "cell_type": "code",
      "source": [
        "points_t.stride()"
      ],
      "metadata": {
        "colab": {
          "base_uri": "https://localhost:8080/"
        },
        "id": "vpuUsX-VZMai",
        "outputId": "480b134c-c2cc-4b42-dde6-b070520fb223"
      },
      "execution_count": 24,
      "outputs": [
        {
          "output_type": "execute_result",
          "data": {
            "text/plain": [
              "(1, 2)"
            ]
          },
          "metadata": {},
          "execution_count": 24
        }
      ]
    },
    {
      "cell_type": "markdown",
      "source": [
        "#Transposing in higher dimensions"
      ],
      "metadata": {
        "id": "vuCpFMTdZfaW"
      }
    },
    {
      "cell_type": "code",
      "source": [
        "some_t = torch.ones(3, 4, 5)\n",
        "transpose_t = some_t.transpose(0, 2)\n",
        "some_t.shape,transpose_t.shape"
      ],
      "metadata": {
        "colab": {
          "base_uri": "https://localhost:8080/"
        },
        "id": "jaPMReCmZR33",
        "outputId": "d54f1583-1a17-480d-c11f-6ffea558a5e1"
      },
      "execution_count": 26,
      "outputs": [
        {
          "output_type": "execute_result",
          "data": {
            "text/plain": [
              "(torch.Size([3, 4, 5]), torch.Size([5, 4, 3]))"
            ]
          },
          "metadata": {},
          "execution_count": 26
        }
      ]
    },
    {
      "cell_type": "code",
      "source": [],
      "metadata": {
        "id": "07NCZqb_ZkXm"
      },
      "execution_count": null,
      "outputs": []
    }
  ]
}