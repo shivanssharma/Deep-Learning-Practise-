{
  "nbformat": 4,
  "nbformat_minor": 0,
  "metadata": {
    "colab": {
      "provenance": [],
      "gpuType": "T4",
      "include_colab_link": true
    },
    "kernelspec": {
      "name": "python3",
      "display_name": "Python 3"
    },
    "language_info": {
      "name": "python"
    },
    "accelerator": "GPU"
  },
  "cells": [
    {
      "cell_type": "markdown",
      "metadata": {
        "id": "view-in-github",
        "colab_type": "text"
      },
      "source": [
        "<a href=\"https://colab.research.google.com/github/shivanssharma/Deep-Learning-Practise-/blob/main/24040208006_MDSC_302(P)_V.ipynb\" target=\"_parent\"><img src=\"https://colab.research.google.com/assets/colab-badge.svg\" alt=\"Open In Colab\"/></a>"
      ]
    },
    {
      "cell_type": "code",
      "execution_count": 1,
      "metadata": {
        "id": "Fi9WoWxadvzr"
      },
      "outputs": [],
      "source": [
        "\n",
        "from torchvision import datasets, transforms\n",
        "data_path = '/content/p1ch7/'\n",
        "\n"
      ]
    },
    {
      "cell_type": "code",
      "source": [
        "# Load the CIFAR10 training dataset\n",
        "cifar10 = datasets.CIFAR10(\n",
        "    data_path, train=True, download=True,\n",
        "    transform=transforms.Compose([\n",
        "        transforms.ToTensor(),\n",
        "        transforms.Normalize((0.4915, 0.4823, 0.4468),\n",
        "                             (0.2470, 0.2435, 0.2616))\n",
        "    ]))"
      ],
      "metadata": {
        "colab": {
          "base_uri": "https://localhost:8080/"
        },
        "id": "VO8JKie5fqq7",
        "outputId": "db2cd47b-8166-4a17-e86b-baf1d447a478"
      },
      "execution_count": 2,
      "outputs": [
        {
          "output_type": "stream",
          "name": "stderr",
          "text": [
            "100%|██████████| 170M/170M [00:13<00:00, 12.3MB/s]\n"
          ]
        }
      ]
    },
    {
      "cell_type": "code",
      "source": [
        "# Load the CIFAR10 validation dataset\n",
        "cifar10_val = datasets.CIFAR10(\n",
        "    data_path, train=False, download=False,\n",
        "    transform=transforms.Compose([\n",
        "        transforms.ToTensor(),\n",
        "        transforms.Normalize((0.4915, 0.4823, 0.4468), # Normalize the image tensors with mean and standard deviation\n",
        "                             (0.2470, 0.2435, 0.2616))\n",
        "    ]))"
      ],
      "metadata": {
        "id": "CAcIzDwkhjpz"
      },
      "execution_count": 3,
      "outputs": []
    },
    {
      "cell_type": "code",
      "source": [
        "label_map = {0: 0, 2: 1}\n",
        "# Define the names for the new classes\n",
        "class_names = ['airplane', 'bird']\n",
        "\n",
        "cifar2 = [(img, label_map[label])\n",
        "          for img, label in cifar10\n",
        "          if label in [0, 2]]\n",
        "\n",
        "cifar2_val = [(img, label_map[label])\n",
        "              for img, label in cifar10_val\n",
        "              if label in [0, 2]]"
      ],
      "metadata": {
        "id": "8AjMrQdfhmdJ"
      },
      "execution_count": 4,
      "outputs": []
    },
    {
      "cell_type": "code",
      "source": [
        "import torch\n",
        "import torch.nn as nn\n",
        "import torch.nn.functional as F\n",
        "import torch.optim as optim\n",
        "\n",
        "# Create a DataLoader for the training dataset\n",
        "train_loader = torch.utils.data.DataLoader(cifar2, batch_size=64,\n",
        "                                           shuffle=True)\n",
        "\n",
        "# Define the neural network model\n",
        "class Net(nn.Module):\n",
        "    def __init__(self):\n",
        "        super(Net, self).__init__()\n",
        "        self.conv1 = nn.Conv2d(3, 16, kernel_size=3, padding=1)\n",
        "        self.conv2 = nn.Conv2d(16, 8, kernel_size=3, padding=1)\n",
        "        self.fc1 = nn.Linear(8 * 8 * 8, 32)\n",
        "        self.fc2 = nn.Linear(32, 2)\n",
        "\n",
        "    # Define the forward pass\n",
        "    def forward(self, x):\n",
        "        # Apply first convolution, ReLU activation, and 2x2 max pooling\n",
        "        out = F.max_pool2d(torch.relu(self.conv1(x)), 2)\n",
        "        # Apply second convolution, ReLU activation, and 2x2 max pooling\n",
        "        out = F.max_pool2d(torch.relu(self.conv2(out)), 2)\n",
        "        # Flatten the output for the fully connected layers\n",
        "        out = out.view(-1, 8 * 8 * 8)\n",
        "        # Apply first fully connected layer and tanh activation\n",
        "        out = torch.tanh(self.fc1(out))\n",
        "        # Apply second fully connected layer (output layer)\n",
        "        out = self.fc2(out)\n",
        "        return out\n",
        "\n",
        "# Instantiate the network model\n",
        "model = Net()\n",
        "\n",
        "# Define the learning rate\n",
        "learning_rate = 1e-2\n",
        "\n",
        "# Define the optimizer (Stochastic Gradient Descent)\n",
        "optimizer = optim.SGD(model.parameters(), lr=learning_rate)\n",
        "\n",
        "# Define the loss function (Cross-Entropy Loss for classification)\n",
        "loss_fn = nn.CrossEntropyLoss()\n",
        "\n",
        "# Define the number of training epochs\n",
        "n_epochs = 100\n",
        "\n",
        "# Training loop\n",
        "for epoch in range(n_epochs):\n",
        "    # Iterate over batches in the training data\n",
        "    for imgs, labels in train_loader:\n",
        "        # Get model outputs for the current batch\n",
        "        outputs = model(imgs)\n",
        "        # Calculate the loss\n",
        "        loss = loss_fn(outputs, labels)\n",
        "\n",
        "        # Zero the gradients, perform backpropagation, and update weights\n",
        "        optimizer.zero_grad()\n",
        "        loss.backward()\n",
        "        optimizer.step()\n",
        "\n",
        "    # Print the loss after each epoch\n",
        "    print(\"Epoch: %d, Loss: %f\" % (epoch, float(loss)))"
      ],
      "metadata": {
        "colab": {
          "base_uri": "https://localhost:8080/"
        },
        "id": "5kXB4oDxh_Uy",
        "outputId": "65fa6f82-3c6e-4ea7-d204-f9de593d8dc6"
      },
      "execution_count": 5,
      "outputs": [
        {
          "output_type": "stream",
          "name": "stderr",
          "text": [
            "/tmp/ipython-input-957594607.py:63: UserWarning: Converting a tensor with requires_grad=True to a scalar may lead to unexpected behavior.\n",
            "Consider using tensor.detach() first. (Triggered internally at /pytorch/torch/csrc/autograd/generated/python_variable_methods.cpp:835.)\n",
            "  print(\"Epoch: %d, Loss: %f\" % (epoch, float(loss)))\n"
          ]
        },
        {
          "output_type": "stream",
          "name": "stdout",
          "text": [
            "Epoch: 0, Loss: 0.510457\n",
            "Epoch: 1, Loss: 0.432535\n",
            "Epoch: 2, Loss: 1.004270\n",
            "Epoch: 3, Loss: 0.337026\n",
            "Epoch: 4, Loss: 0.239355\n",
            "Epoch: 5, Loss: 0.321709\n",
            "Epoch: 6, Loss: 0.229540\n",
            "Epoch: 7, Loss: 0.257699\n",
            "Epoch: 8, Loss: 0.275317\n",
            "Epoch: 9, Loss: 0.177018\n",
            "Epoch: 10, Loss: 0.406675\n",
            "Epoch: 11, Loss: 0.187603\n",
            "Epoch: 12, Loss: 0.327529\n",
            "Epoch: 13, Loss: 0.679993\n",
            "Epoch: 14, Loss: 0.298198\n",
            "Epoch: 15, Loss: 0.469005\n",
            "Epoch: 16, Loss: 0.326155\n",
            "Epoch: 17, Loss: 0.278744\n",
            "Epoch: 18, Loss: 0.252449\n",
            "Epoch: 19, Loss: 0.210714\n",
            "Epoch: 20, Loss: 0.354748\n",
            "Epoch: 21, Loss: 0.070826\n",
            "Epoch: 22, Loss: 0.315485\n",
            "Epoch: 23, Loss: 0.113934\n",
            "Epoch: 24, Loss: 0.449574\n",
            "Epoch: 25, Loss: 0.273074\n",
            "Epoch: 26, Loss: 0.242370\n",
            "Epoch: 27, Loss: 0.147039\n",
            "Epoch: 28, Loss: 0.097489\n",
            "Epoch: 29, Loss: 0.050351\n",
            "Epoch: 30, Loss: 0.140751\n",
            "Epoch: 31, Loss: 0.141717\n",
            "Epoch: 32, Loss: 0.375215\n",
            "Epoch: 33, Loss: 0.493140\n",
            "Epoch: 34, Loss: 0.383294\n",
            "Epoch: 35, Loss: 0.193899\n",
            "Epoch: 36, Loss: 0.114928\n",
            "Epoch: 37, Loss: 0.240468\n",
            "Epoch: 38, Loss: 0.462442\n",
            "Epoch: 39, Loss: 0.363115\n",
            "Epoch: 40, Loss: 0.195661\n",
            "Epoch: 41, Loss: 0.217025\n",
            "Epoch: 42, Loss: 0.196702\n",
            "Epoch: 43, Loss: 0.086524\n",
            "Epoch: 44, Loss: 0.103989\n",
            "Epoch: 45, Loss: 0.112716\n",
            "Epoch: 46, Loss: 0.137963\n",
            "Epoch: 47, Loss: 0.090097\n",
            "Epoch: 48, Loss: 0.119923\n",
            "Epoch: 49, Loss: 0.161289\n",
            "Epoch: 50, Loss: 0.185847\n",
            "Epoch: 51, Loss: 0.235237\n",
            "Epoch: 52, Loss: 0.157666\n",
            "Epoch: 53, Loss: 0.131053\n",
            "Epoch: 54, Loss: 0.260075\n",
            "Epoch: 55, Loss: 0.245084\n",
            "Epoch: 56, Loss: 0.079949\n",
            "Epoch: 57, Loss: 0.378674\n",
            "Epoch: 58, Loss: 0.027461\n",
            "Epoch: 59, Loss: 0.266886\n",
            "Epoch: 60, Loss: 0.088128\n",
            "Epoch: 61, Loss: 0.154792\n",
            "Epoch: 62, Loss: 0.124283\n",
            "Epoch: 63, Loss: 0.141622\n",
            "Epoch: 64, Loss: 0.116672\n",
            "Epoch: 65, Loss: 0.246483\n",
            "Epoch: 66, Loss: 0.198337\n",
            "Epoch: 67, Loss: 0.164547\n",
            "Epoch: 68, Loss: 0.434338\n",
            "Epoch: 69, Loss: 0.210916\n",
            "Epoch: 70, Loss: 0.062904\n",
            "Epoch: 71, Loss: 0.195197\n",
            "Epoch: 72, Loss: 0.034443\n",
            "Epoch: 73, Loss: 0.065797\n",
            "Epoch: 74, Loss: 0.080501\n",
            "Epoch: 75, Loss: 0.039667\n",
            "Epoch: 76, Loss: 0.089829\n",
            "Epoch: 77, Loss: 0.296496\n",
            "Epoch: 78, Loss: 0.167705\n",
            "Epoch: 79, Loss: 0.108379\n",
            "Epoch: 80, Loss: 0.132344\n",
            "Epoch: 81, Loss: 0.039127\n",
            "Epoch: 82, Loss: 0.033713\n",
            "Epoch: 83, Loss: 0.140800\n",
            "Epoch: 84, Loss: 0.101207\n",
            "Epoch: 85, Loss: 0.018371\n",
            "Epoch: 86, Loss: 0.041107\n",
            "Epoch: 87, Loss: 0.116377\n",
            "Epoch: 88, Loss: 0.056174\n",
            "Epoch: 89, Loss: 0.114005\n",
            "Epoch: 90, Loss: 0.038189\n",
            "Epoch: 91, Loss: 0.057352\n",
            "Epoch: 92, Loss: 0.121540\n",
            "Epoch: 93, Loss: 0.215933\n",
            "Epoch: 94, Loss: 0.051375\n",
            "Epoch: 95, Loss: 0.051432\n",
            "Epoch: 96, Loss: 0.037977\n",
            "Epoch: 97, Loss: 0.048070\n",
            "Epoch: 98, Loss: 0.111575\n",
            "Epoch: 99, Loss: 0.156093\n"
          ]
        }
      ]
    },
    {
      "cell_type": "code",
      "source": [
        "# Create a DataLoader for the training dataset, ensuring shuffle is False for consistent evaluation\n",
        "train_loader = torch.utils.data.DataLoader(cifar2, batch_size=64,\n",
        "                                           shuffle=False)\n",
        "\n",
        "correct = 0\n",
        "total = 0\n",
        "\n",
        "# Disable gradient calculation for evaluation\n",
        "with torch.no_grad():\n",
        "    # Iterate over the training data\n",
        "    for imgs, labels in train_loader:\n",
        "        # Get model predictions. Pass the images directly to the model.\n",
        "        outputs = model(imgs)\n",
        "        # Get the predicted class by finding the index of the maximum output value\n",
        "        _, predicted = torch.max(outputs, dim=1)\n",
        "        # Update the total number of samples\n",
        "        total += labels.shape[0]\n",
        "        # Update the number of correct predictions\n",
        "        correct += int((predicted == labels).sum())\n",
        "\n",
        "# Print the accuracy on the training set\n",
        "print(\"Accuracy: %f\" % (correct / total))"
      ],
      "metadata": {
        "colab": {
          "base_uri": "https://localhost:8080/"
        },
        "id": "VesUkIu6i9vC",
        "outputId": "d4295c3c-24c8-438e-81bf-2d209c7a9e22"
      },
      "execution_count": 6,
      "outputs": [
        {
          "output_type": "stream",
          "name": "stdout",
          "text": [
            "Accuracy: 0.964300\n"
          ]
        }
      ]
    },
    {
      "cell_type": "code",
      "source": [
        "# Create a DataLoader for the validation dataset, ensuring shuffle is False for consistent evaluation\n",
        "val_loader = torch.utils.data.DataLoader(cifar2_val, batch_size=64,\n",
        "                                         shuffle=False)\n",
        "\n",
        "correct = 0\n",
        "total = 0\n",
        "\n",
        "# Disable gradient calculation for evaluation\n",
        "with torch.no_grad():\n",
        "    # Iterate over the validation data\n",
        "    for imgs, labels in val_loader:\n",
        "        # Get model predictions. Pass the images directly to the model.\n",
        "        outputs = model(imgs)\n",
        "        # Get the predicted class by finding the index of the maximum output value\n",
        "        _, predicted = torch.max(outputs, dim=1)\n",
        "        # Update the total number of samples\n",
        "        total += labels.shape[0]\n",
        "        # Update the number of correct predictions\n",
        "        correct += int((predicted == labels).sum())\n",
        "\n",
        "# Print the accuracy on the validation set\n",
        "print(\"Accuracy: %f\" % (correct / total))"
      ],
      "metadata": {
        "colab": {
          "base_uri": "https://localhost:8080/"
        },
        "id": "92voPzXGi_5f",
        "outputId": "9a121ff6-ce79-4582-b1d7-7a34b8a39f8b"
      },
      "execution_count": 7,
      "outputs": [
        {
          "output_type": "stream",
          "name": "stdout",
          "text": [
            "Accuracy: 0.880000\n"
          ]
        }
      ]
    }
  ]
}